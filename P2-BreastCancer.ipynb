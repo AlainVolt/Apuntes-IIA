{
 "cells": [
  {
   "cell_type": "markdown",
   "id": "d8556c6a",
   "metadata": {},
   "source": [
    "## Control 1 - P2. Clasificación\n",
    "\n",
    "contestado por Diego Avendaño"
   ]
  },
  {
   "cell_type": "code",
   "execution_count": 107,
   "id": "b37c74ce",
   "metadata": {},
   "outputs": [],
   "source": [
    "import pandas as pd\n",
    "import numpy as np\n",
    "import matplotlib.pyplot as plt\n",
    "import seaborn as sns\n",
    "from sklearn.linear_model import LogisticRegression\n",
    "from sklearn.decomposition import PCA\n",
    "from sklearn.model_selection import train_test_split, cross_validate \n",
    "from sklearn.preprocessing import StandardScaler, MinMaxScaler\n",
    "from sklearn.metrics import classification_report, confusion_matrix, roc_curve \n",
    "from sklearn.pipeline import Pipeline"
   ]
  },
  {
   "cell_type": "markdown",
   "id": "a8f6718b",
   "metadata": {},
   "source": [
    "## Importar y explorar datos"
   ]
  },
  {
   "cell_type": "markdown",
   "id": "4a5ded42",
   "metadata": {},
   "source": [
    "1.- Importe los datos e identifique la respuesta de interés"
   ]
  },
  {
   "cell_type": "code",
   "execution_count": 108,
   "id": "eb508833",
   "metadata": {},
   "outputs": [
    {
     "data": {
      "text/html": [
       "<div>\n",
       "<style scoped>\n",
       "    .dataframe tbody tr th:only-of-type {\n",
       "        vertical-align: middle;\n",
       "    }\n",
       "\n",
       "    .dataframe tbody tr th {\n",
       "        vertical-align: top;\n",
       "    }\n",
       "\n",
       "    .dataframe thead th {\n",
       "        text-align: right;\n",
       "    }\n",
       "</style>\n",
       "<table border=\"1\" class=\"dataframe\">\n",
       "  <thead>\n",
       "    <tr style=\"text-align: right;\">\n",
       "      <th></th>\n",
       "      <th>samples</th>\n",
       "      <th>type</th>\n",
       "      <th>1007_s_at</th>\n",
       "      <th>1053_at</th>\n",
       "      <th>117_at</th>\n",
       "      <th>121_at</th>\n",
       "      <th>1255_g_at</th>\n",
       "      <th>1294_at</th>\n",
       "      <th>1316_at</th>\n",
       "      <th>1320_at</th>\n",
       "      <th>...</th>\n",
       "      <th>AFFX-r2-Ec-bioD-3_at</th>\n",
       "      <th>AFFX-r2-Ec-bioD-5_at</th>\n",
       "      <th>AFFX-r2-P1-cre-3_at</th>\n",
       "      <th>AFFX-r2-P1-cre-5_at</th>\n",
       "      <th>AFFX-ThrX-3_at</th>\n",
       "      <th>AFFX-ThrX-5_at</th>\n",
       "      <th>AFFX-ThrX-M_at</th>\n",
       "      <th>AFFX-TrpnX-3_at</th>\n",
       "      <th>AFFX-TrpnX-5_at</th>\n",
       "      <th>AFFX-TrpnX-M_at</th>\n",
       "    </tr>\n",
       "  </thead>\n",
       "  <tbody>\n",
       "    <tr>\n",
       "      <th>0</th>\n",
       "      <td>84</td>\n",
       "      <td>basal</td>\n",
       "      <td>9.850040</td>\n",
       "      <td>8.097927</td>\n",
       "      <td>6.424728</td>\n",
       "      <td>7.353027</td>\n",
       "      <td>3.029122</td>\n",
       "      <td>6.880079</td>\n",
       "      <td>4.963740</td>\n",
       "      <td>4.408328</td>\n",
       "      <td>...</td>\n",
       "      <td>12.229711</td>\n",
       "      <td>11.852955</td>\n",
       "      <td>13.658701</td>\n",
       "      <td>13.477698</td>\n",
       "      <td>6.265781</td>\n",
       "      <td>5.016196</td>\n",
       "      <td>4.901594</td>\n",
       "      <td>2.966657</td>\n",
       "      <td>3.508495</td>\n",
       "      <td>3.301999</td>\n",
       "    </tr>\n",
       "    <tr>\n",
       "      <th>1</th>\n",
       "      <td>85</td>\n",
       "      <td>basal</td>\n",
       "      <td>9.861357</td>\n",
       "      <td>8.212222</td>\n",
       "      <td>7.062593</td>\n",
       "      <td>7.685578</td>\n",
       "      <td>3.149468</td>\n",
       "      <td>7.542283</td>\n",
       "      <td>5.129607</td>\n",
       "      <td>4.584418</td>\n",
       "      <td>...</td>\n",
       "      <td>12.178531</td>\n",
       "      <td>11.809408</td>\n",
       "      <td>13.750086</td>\n",
       "      <td>13.470146</td>\n",
       "      <td>6.771853</td>\n",
       "      <td>5.291005</td>\n",
       "      <td>5.405839</td>\n",
       "      <td>2.934763</td>\n",
       "      <td>3.687666</td>\n",
       "      <td>3.064299</td>\n",
       "    </tr>\n",
       "    <tr>\n",
       "      <th>2</th>\n",
       "      <td>87</td>\n",
       "      <td>basal</td>\n",
       "      <td>10.103478</td>\n",
       "      <td>8.936137</td>\n",
       "      <td>5.735970</td>\n",
       "      <td>7.687822</td>\n",
       "      <td>3.125931</td>\n",
       "      <td>6.562369</td>\n",
       "      <td>4.813449</td>\n",
       "      <td>4.425195</td>\n",
       "      <td>...</td>\n",
       "      <td>12.125108</td>\n",
       "      <td>11.725766</td>\n",
       "      <td>13.621732</td>\n",
       "      <td>13.295080</td>\n",
       "      <td>6.346952</td>\n",
       "      <td>5.171403</td>\n",
       "      <td>5.184286</td>\n",
       "      <td>2.847684</td>\n",
       "      <td>3.550597</td>\n",
       "      <td>3.158535</td>\n",
       "    </tr>\n",
       "    <tr>\n",
       "      <th>3</th>\n",
       "      <td>90</td>\n",
       "      <td>basal</td>\n",
       "      <td>9.756875</td>\n",
       "      <td>7.357148</td>\n",
       "      <td>6.479183</td>\n",
       "      <td>6.986624</td>\n",
       "      <td>3.181638</td>\n",
       "      <td>7.802344</td>\n",
       "      <td>5.490982</td>\n",
       "      <td>4.567956</td>\n",
       "      <td>...</td>\n",
       "      <td>12.111235</td>\n",
       "      <td>11.719215</td>\n",
       "      <td>13.743108</td>\n",
       "      <td>13.508861</td>\n",
       "      <td>6.610284</td>\n",
       "      <td>5.193356</td>\n",
       "      <td>5.086569</td>\n",
       "      <td>3.031602</td>\n",
       "      <td>3.524981</td>\n",
       "      <td>3.272665</td>\n",
       "    </tr>\n",
       "    <tr>\n",
       "      <th>4</th>\n",
       "      <td>91</td>\n",
       "      <td>basal</td>\n",
       "      <td>9.408330</td>\n",
       "      <td>7.746404</td>\n",
       "      <td>6.693980</td>\n",
       "      <td>7.333426</td>\n",
       "      <td>3.169923</td>\n",
       "      <td>7.610457</td>\n",
       "      <td>5.372469</td>\n",
       "      <td>4.424426</td>\n",
       "      <td>...</td>\n",
       "      <td>12.173642</td>\n",
       "      <td>11.861296</td>\n",
       "      <td>13.797774</td>\n",
       "      <td>13.542206</td>\n",
       "      <td>6.414354</td>\n",
       "      <td>5.040202</td>\n",
       "      <td>5.235318</td>\n",
       "      <td>2.956232</td>\n",
       "      <td>3.445501</td>\n",
       "      <td>3.193947</td>\n",
       "    </tr>\n",
       "    <tr>\n",
       "      <th>...</th>\n",
       "      <td>...</td>\n",
       "      <td>...</td>\n",
       "      <td>...</td>\n",
       "      <td>...</td>\n",
       "      <td>...</td>\n",
       "      <td>...</td>\n",
       "      <td>...</td>\n",
       "      <td>...</td>\n",
       "      <td>...</td>\n",
       "      <td>...</td>\n",
       "      <td>...</td>\n",
       "      <td>...</td>\n",
       "      <td>...</td>\n",
       "      <td>...</td>\n",
       "      <td>...</td>\n",
       "      <td>...</td>\n",
       "      <td>...</td>\n",
       "      <td>...</td>\n",
       "      <td>...</td>\n",
       "      <td>...</td>\n",
       "      <td>...</td>\n",
       "    </tr>\n",
       "    <tr>\n",
       "      <th>146</th>\n",
       "      <td>230</td>\n",
       "      <td>luminal_B</td>\n",
       "      <td>10.392638</td>\n",
       "      <td>7.334408</td>\n",
       "      <td>6.848586</td>\n",
       "      <td>7.020486</td>\n",
       "      <td>3.228065</td>\n",
       "      <td>7.815439</td>\n",
       "      <td>5.448470</td>\n",
       "      <td>4.496955</td>\n",
       "      <td>...</td>\n",
       "      <td>12.638556</td>\n",
       "      <td>12.122129</td>\n",
       "      <td>14.331152</td>\n",
       "      <td>14.133976</td>\n",
       "      <td>8.495888</td>\n",
       "      <td>4.971727</td>\n",
       "      <td>6.209136</td>\n",
       "      <td>2.852852</td>\n",
       "      <td>3.697448</td>\n",
       "      <td>3.333289</td>\n",
       "    </tr>\n",
       "    <tr>\n",
       "      <th>147</th>\n",
       "      <td>233</td>\n",
       "      <td>luminal_B</td>\n",
       "      <td>10.930875</td>\n",
       "      <td>8.415294</td>\n",
       "      <td>5.906827</td>\n",
       "      <td>7.753572</td>\n",
       "      <td>3.270557</td>\n",
       "      <td>7.367931</td>\n",
       "      <td>5.906849</td>\n",
       "      <td>5.194349</td>\n",
       "      <td>...</td>\n",
       "      <td>12.523507</td>\n",
       "      <td>11.977970</td>\n",
       "      <td>14.285405</td>\n",
       "      <td>14.070989</td>\n",
       "      <td>8.193182</td>\n",
       "      <td>6.528948</td>\n",
       "      <td>7.108210</td>\n",
       "      <td>2.929800</td>\n",
       "      <td>3.833289</td>\n",
       "      <td>3.213893</td>\n",
       "    </tr>\n",
       "    <tr>\n",
       "      <th>148</th>\n",
       "      <td>236</td>\n",
       "      <td>luminal_B</td>\n",
       "      <td>11.027098</td>\n",
       "      <td>7.180876</td>\n",
       "      <td>6.304736</td>\n",
       "      <td>7.641197</td>\n",
       "      <td>3.206950</td>\n",
       "      <td>8.569296</td>\n",
       "      <td>5.823146</td>\n",
       "      <td>4.617309</td>\n",
       "      <td>...</td>\n",
       "      <td>12.256767</td>\n",
       "      <td>11.661126</td>\n",
       "      <td>14.149586</td>\n",
       "      <td>13.977076</td>\n",
       "      <td>8.351331</td>\n",
       "      <td>6.882504</td>\n",
       "      <td>7.329545</td>\n",
       "      <td>3.085127</td>\n",
       "      <td>3.628848</td>\n",
       "      <td>3.215807</td>\n",
       "    </tr>\n",
       "    <tr>\n",
       "      <th>149</th>\n",
       "      <td>237</td>\n",
       "      <td>luminal_B</td>\n",
       "      <td>10.444395</td>\n",
       "      <td>7.525153</td>\n",
       "      <td>5.964460</td>\n",
       "      <td>7.825939</td>\n",
       "      <td>3.384147</td>\n",
       "      <td>7.268454</td>\n",
       "      <td>5.245072</td>\n",
       "      <td>5.088004</td>\n",
       "      <td>...</td>\n",
       "      <td>12.321900</td>\n",
       "      <td>11.727694</td>\n",
       "      <td>14.186277</td>\n",
       "      <td>13.943521</td>\n",
       "      <td>7.927210</td>\n",
       "      <td>6.839086</td>\n",
       "      <td>7.089259</td>\n",
       "      <td>3.018525</td>\n",
       "      <td>3.770597</td>\n",
       "      <td>3.102298</td>\n",
       "    </tr>\n",
       "    <tr>\n",
       "      <th>150</th>\n",
       "      <td>238</td>\n",
       "      <td>luminal_B</td>\n",
       "      <td>11.345817</td>\n",
       "      <td>7.379299</td>\n",
       "      <td>5.891172</td>\n",
       "      <td>7.394586</td>\n",
       "      <td>3.183420</td>\n",
       "      <td>7.792885</td>\n",
       "      <td>5.355978</td>\n",
       "      <td>4.457914</td>\n",
       "      <td>...</td>\n",
       "      <td>12.126110</td>\n",
       "      <td>11.478893</td>\n",
       "      <td>14.070188</td>\n",
       "      <td>13.857547</td>\n",
       "      <td>7.992141</td>\n",
       "      <td>5.661898</td>\n",
       "      <td>6.460331</td>\n",
       "      <td>3.061585</td>\n",
       "      <td>3.857525</td>\n",
       "      <td>3.129827</td>\n",
       "    </tr>\n",
       "  </tbody>\n",
       "</table>\n",
       "<p>151 rows × 54677 columns</p>\n",
       "</div>"
      ],
      "text/plain": [
       "     samples       type  1007_s_at   1053_at    117_at    121_at  1255_g_at  \\\n",
       "0         84      basal   9.850040  8.097927  6.424728  7.353027   3.029122   \n",
       "1         85      basal   9.861357  8.212222  7.062593  7.685578   3.149468   \n",
       "2         87      basal  10.103478  8.936137  5.735970  7.687822   3.125931   \n",
       "3         90      basal   9.756875  7.357148  6.479183  6.986624   3.181638   \n",
       "4         91      basal   9.408330  7.746404  6.693980  7.333426   3.169923   \n",
       "..       ...        ...        ...       ...       ...       ...        ...   \n",
       "146      230  luminal_B  10.392638  7.334408  6.848586  7.020486   3.228065   \n",
       "147      233  luminal_B  10.930875  8.415294  5.906827  7.753572   3.270557   \n",
       "148      236  luminal_B  11.027098  7.180876  6.304736  7.641197   3.206950   \n",
       "149      237  luminal_B  10.444395  7.525153  5.964460  7.825939   3.384147   \n",
       "150      238  luminal_B  11.345817  7.379299  5.891172  7.394586   3.183420   \n",
       "\n",
       "      1294_at   1316_at   1320_at  ...  AFFX-r2-Ec-bioD-3_at  \\\n",
       "0    6.880079  4.963740  4.408328  ...             12.229711   \n",
       "1    7.542283  5.129607  4.584418  ...             12.178531   \n",
       "2    6.562369  4.813449  4.425195  ...             12.125108   \n",
       "3    7.802344  5.490982  4.567956  ...             12.111235   \n",
       "4    7.610457  5.372469  4.424426  ...             12.173642   \n",
       "..        ...       ...       ...  ...                   ...   \n",
       "146  7.815439  5.448470  4.496955  ...             12.638556   \n",
       "147  7.367931  5.906849  5.194349  ...             12.523507   \n",
       "148  8.569296  5.823146  4.617309  ...             12.256767   \n",
       "149  7.268454  5.245072  5.088004  ...             12.321900   \n",
       "150  7.792885  5.355978  4.457914  ...             12.126110   \n",
       "\n",
       "     AFFX-r2-Ec-bioD-5_at  AFFX-r2-P1-cre-3_at  AFFX-r2-P1-cre-5_at  \\\n",
       "0               11.852955            13.658701            13.477698   \n",
       "1               11.809408            13.750086            13.470146   \n",
       "2               11.725766            13.621732            13.295080   \n",
       "3               11.719215            13.743108            13.508861   \n",
       "4               11.861296            13.797774            13.542206   \n",
       "..                    ...                  ...                  ...   \n",
       "146             12.122129            14.331152            14.133976   \n",
       "147             11.977970            14.285405            14.070989   \n",
       "148             11.661126            14.149586            13.977076   \n",
       "149             11.727694            14.186277            13.943521   \n",
       "150             11.478893            14.070188            13.857547   \n",
       "\n",
       "     AFFX-ThrX-3_at  AFFX-ThrX-5_at  AFFX-ThrX-M_at  AFFX-TrpnX-3_at  \\\n",
       "0          6.265781        5.016196        4.901594         2.966657   \n",
       "1          6.771853        5.291005        5.405839         2.934763   \n",
       "2          6.346952        5.171403        5.184286         2.847684   \n",
       "3          6.610284        5.193356        5.086569         3.031602   \n",
       "4          6.414354        5.040202        5.235318         2.956232   \n",
       "..              ...             ...             ...              ...   \n",
       "146        8.495888        4.971727        6.209136         2.852852   \n",
       "147        8.193182        6.528948        7.108210         2.929800   \n",
       "148        8.351331        6.882504        7.329545         3.085127   \n",
       "149        7.927210        6.839086        7.089259         3.018525   \n",
       "150        7.992141        5.661898        6.460331         3.061585   \n",
       "\n",
       "     AFFX-TrpnX-5_at  AFFX-TrpnX-M_at  \n",
       "0           3.508495         3.301999  \n",
       "1           3.687666         3.064299  \n",
       "2           3.550597         3.158535  \n",
       "3           3.524981         3.272665  \n",
       "4           3.445501         3.193947  \n",
       "..               ...              ...  \n",
       "146         3.697448         3.333289  \n",
       "147         3.833289         3.213893  \n",
       "148         3.628848         3.215807  \n",
       "149         3.770597         3.102298  \n",
       "150         3.857525         3.129827  \n",
       "\n",
       "[151 rows x 54677 columns]"
      ]
     },
     "execution_count": 108,
     "metadata": {},
     "output_type": "execute_result"
    }
   ],
   "source": [
    "data = pd.read_csv(\"Breast_GSE45827.csv\")\n",
    "data"
   ]
  },
  {
   "cell_type": "markdown",
   "id": "51106bed",
   "metadata": {},
   "source": [
    "Como podemos identificar, la respuesta de interés es type, ya que nos indica el tipo de cáncer de mamas."
   ]
  },
  {
   "cell_type": "markdown",
   "id": "f27d0042",
   "metadata": {},
   "source": [
    "2.- Verifique los tipos de datos, descríbalos y vea si es que existen valores nulos -> Observación: Sólo describa, ya que son muchas columnas."
   ]
  },
  {
   "cell_type": "code",
   "execution_count": 109,
   "id": "4905fa13",
   "metadata": {},
   "outputs": [
    {
     "data": {
      "text/plain": [
       "samples              int64\n",
       "type                object\n",
       "1007_s_at          float64\n",
       "1053_at            float64\n",
       "117_at             float64\n",
       "                    ...   \n",
       "AFFX-ThrX-5_at     float64\n",
       "AFFX-ThrX-M_at     float64\n",
       "AFFX-TrpnX-3_at    float64\n",
       "AFFX-TrpnX-5_at    float64\n",
       "AFFX-TrpnX-M_at    float64\n",
       "Length: 54677, dtype: object"
      ]
     },
     "execution_count": 109,
     "metadata": {},
     "output_type": "execute_result"
    }
   ],
   "source": [
    "data.dtypes"
   ]
  },
  {
   "cell_type": "code",
   "execution_count": 110,
   "id": "a14f8f2c",
   "metadata": {},
   "outputs": [
    {
     "data": {
      "text/html": [
       "<div>\n",
       "<style scoped>\n",
       "    .dataframe tbody tr th:only-of-type {\n",
       "        vertical-align: middle;\n",
       "    }\n",
       "\n",
       "    .dataframe tbody tr th {\n",
       "        vertical-align: top;\n",
       "    }\n",
       "\n",
       "    .dataframe thead th {\n",
       "        text-align: right;\n",
       "    }\n",
       "</style>\n",
       "<table border=\"1\" class=\"dataframe\">\n",
       "  <thead>\n",
       "    <tr style=\"text-align: right;\">\n",
       "      <th></th>\n",
       "      <th>samples</th>\n",
       "      <th>1007_s_at</th>\n",
       "      <th>1053_at</th>\n",
       "      <th>117_at</th>\n",
       "      <th>121_at</th>\n",
       "      <th>1255_g_at</th>\n",
       "      <th>1294_at</th>\n",
       "      <th>1316_at</th>\n",
       "      <th>1320_at</th>\n",
       "      <th>1405_i_at</th>\n",
       "      <th>...</th>\n",
       "      <th>AFFX-r2-Ec-bioD-3_at</th>\n",
       "      <th>AFFX-r2-Ec-bioD-5_at</th>\n",
       "      <th>AFFX-r2-P1-cre-3_at</th>\n",
       "      <th>AFFX-r2-P1-cre-5_at</th>\n",
       "      <th>AFFX-ThrX-3_at</th>\n",
       "      <th>AFFX-ThrX-5_at</th>\n",
       "      <th>AFFX-ThrX-M_at</th>\n",
       "      <th>AFFX-TrpnX-3_at</th>\n",
       "      <th>AFFX-TrpnX-5_at</th>\n",
       "      <th>AFFX-TrpnX-M_at</th>\n",
       "    </tr>\n",
       "  </thead>\n",
       "  <tbody>\n",
       "    <tr>\n",
       "      <th>count</th>\n",
       "      <td>151.000000</td>\n",
       "      <td>151.000000</td>\n",
       "      <td>151.000000</td>\n",
       "      <td>151.000000</td>\n",
       "      <td>151.000000</td>\n",
       "      <td>151.000000</td>\n",
       "      <td>151.000000</td>\n",
       "      <td>151.000000</td>\n",
       "      <td>151.000000</td>\n",
       "      <td>151.000000</td>\n",
       "      <td>...</td>\n",
       "      <td>151.000000</td>\n",
       "      <td>151.000000</td>\n",
       "      <td>151.000000</td>\n",
       "      <td>151.000000</td>\n",
       "      <td>151.000000</td>\n",
       "      <td>151.000000</td>\n",
       "      <td>151.000000</td>\n",
       "      <td>151.000000</td>\n",
       "      <td>151.000000</td>\n",
       "      <td>151.000000</td>\n",
       "    </tr>\n",
       "    <tr>\n",
       "      <th>mean</th>\n",
       "      <td>160.668874</td>\n",
       "      <td>10.338901</td>\n",
       "      <td>7.631910</td>\n",
       "      <td>6.224885</td>\n",
       "      <td>7.339248</td>\n",
       "      <td>3.185252</td>\n",
       "      <td>7.310240</td>\n",
       "      <td>5.323484</td>\n",
       "      <td>4.714095</td>\n",
       "      <td>7.787712</td>\n",
       "      <td>...</td>\n",
       "      <td>12.359605</td>\n",
       "      <td>11.823386</td>\n",
       "      <td>14.018193</td>\n",
       "      <td>13.773030</td>\n",
       "      <td>7.621929</td>\n",
       "      <td>5.699042</td>\n",
       "      <td>6.185605</td>\n",
       "      <td>2.918774</td>\n",
       "      <td>3.624008</td>\n",
       "      <td>3.173868</td>\n",
       "    </tr>\n",
       "    <tr>\n",
       "      <th>std</th>\n",
       "      <td>45.431226</td>\n",
       "      <td>0.613445</td>\n",
       "      <td>0.706464</td>\n",
       "      <td>0.645435</td>\n",
       "      <td>0.330827</td>\n",
       "      <td>0.158909</td>\n",
       "      <td>0.642091</td>\n",
       "      <td>0.294513</td>\n",
       "      <td>0.308550</td>\n",
       "      <td>1.648260</td>\n",
       "      <td>...</td>\n",
       "      <td>0.318436</td>\n",
       "      <td>0.369859</td>\n",
       "      <td>0.253870</td>\n",
       "      <td>0.290556</td>\n",
       "      <td>0.857777</td>\n",
       "      <td>0.860841</td>\n",
       "      <td>0.953867</td>\n",
       "      <td>0.093126</td>\n",
       "      <td>0.145394</td>\n",
       "      <td>0.101907</td>\n",
       "    </tr>\n",
       "    <tr>\n",
       "      <th>min</th>\n",
       "      <td>84.000000</td>\n",
       "      <td>7.505488</td>\n",
       "      <td>5.855968</td>\n",
       "      <td>4.763602</td>\n",
       "      <td>6.632206</td>\n",
       "      <td>2.760583</td>\n",
       "      <td>5.455736</td>\n",
       "      <td>4.646131</td>\n",
       "      <td>3.946065</td>\n",
       "      <td>3.866030</td>\n",
       "      <td>...</td>\n",
       "      <td>11.650564</td>\n",
       "      <td>10.939760</td>\n",
       "      <td>13.419083</td>\n",
       "      <td>13.191191</td>\n",
       "      <td>5.729767</td>\n",
       "      <td>4.326227</td>\n",
       "      <td>4.301471</td>\n",
       "      <td>2.733497</td>\n",
       "      <td>3.299401</td>\n",
       "      <td>2.937393</td>\n",
       "    </tr>\n",
       "    <tr>\n",
       "      <th>25%</th>\n",
       "      <td>121.500000</td>\n",
       "      <td>10.103030</td>\n",
       "      <td>7.166075</td>\n",
       "      <td>5.798087</td>\n",
       "      <td>7.105841</td>\n",
       "      <td>3.075873</td>\n",
       "      <td>6.874504</td>\n",
       "      <td>5.131931</td>\n",
       "      <td>4.466260</td>\n",
       "      <td>6.804510</td>\n",
       "      <td>...</td>\n",
       "      <td>12.149550</td>\n",
       "      <td>11.592631</td>\n",
       "      <td>13.807282</td>\n",
       "      <td>13.523011</td>\n",
       "      <td>6.884862</td>\n",
       "      <td>4.967515</td>\n",
       "      <td>5.336542</td>\n",
       "      <td>2.861549</td>\n",
       "      <td>3.532740</td>\n",
       "      <td>3.109767</td>\n",
       "    </tr>\n",
       "    <tr>\n",
       "      <th>50%</th>\n",
       "      <td>159.000000</td>\n",
       "      <td>10.416819</td>\n",
       "      <td>7.531673</td>\n",
       "      <td>6.235074</td>\n",
       "      <td>7.333426</td>\n",
       "      <td>3.187703</td>\n",
       "      <td>7.417113</td>\n",
       "      <td>5.274663</td>\n",
       "      <td>4.662957</td>\n",
       "      <td>7.912255</td>\n",
       "      <td>...</td>\n",
       "      <td>12.321900</td>\n",
       "      <td>11.830756</td>\n",
       "      <td>14.002497</td>\n",
       "      <td>13.740376</td>\n",
       "      <td>7.795425</td>\n",
       "      <td>5.489450</td>\n",
       "      <td>6.209136</td>\n",
       "      <td>2.911734</td>\n",
       "      <td>3.615106</td>\n",
       "      <td>3.163205</td>\n",
       "    </tr>\n",
       "    <tr>\n",
       "      <th>75%</th>\n",
       "      <td>200.500000</td>\n",
       "      <td>10.735117</td>\n",
       "      <td>8.053832</td>\n",
       "      <td>6.612291</td>\n",
       "      <td>7.513084</td>\n",
       "      <td>3.280416</td>\n",
       "      <td>7.760806</td>\n",
       "      <td>5.456686</td>\n",
       "      <td>4.941337</td>\n",
       "      <td>8.887997</td>\n",
       "      <td>...</td>\n",
       "      <td>12.527235</td>\n",
       "      <td>12.021728</td>\n",
       "      <td>14.232589</td>\n",
       "      <td>14.028020</td>\n",
       "      <td>8.195458</td>\n",
       "      <td>6.449022</td>\n",
       "      <td>7.046721</td>\n",
       "      <td>2.961270</td>\n",
       "      <td>3.698539</td>\n",
       "      <td>3.229561</td>\n",
       "    </tr>\n",
       "    <tr>\n",
       "      <th>max</th>\n",
       "      <td>238.000000</td>\n",
       "      <td>11.675109</td>\n",
       "      <td>9.627008</td>\n",
       "      <td>8.364749</td>\n",
       "      <td>8.374055</td>\n",
       "      <td>3.611630</td>\n",
       "      <td>8.569296</td>\n",
       "      <td>6.360765</td>\n",
       "      <td>5.893006</td>\n",
       "      <td>11.710498</td>\n",
       "      <td>...</td>\n",
       "      <td>13.509037</td>\n",
       "      <td>13.119966</td>\n",
       "      <td>14.622678</td>\n",
       "      <td>14.482744</td>\n",
       "      <td>10.291243</td>\n",
       "      <td>8.112206</td>\n",
       "      <td>9.121638</td>\n",
       "      <td>3.322275</td>\n",
       "      <td>4.160823</td>\n",
       "      <td>3.451855</td>\n",
       "    </tr>\n",
       "  </tbody>\n",
       "</table>\n",
       "<p>8 rows × 54676 columns</p>\n",
       "</div>"
      ],
      "text/plain": [
       "          samples   1007_s_at     1053_at      117_at      121_at   1255_g_at  \\\n",
       "count  151.000000  151.000000  151.000000  151.000000  151.000000  151.000000   \n",
       "mean   160.668874   10.338901    7.631910    6.224885    7.339248    3.185252   \n",
       "std     45.431226    0.613445    0.706464    0.645435    0.330827    0.158909   \n",
       "min     84.000000    7.505488    5.855968    4.763602    6.632206    2.760583   \n",
       "25%    121.500000   10.103030    7.166075    5.798087    7.105841    3.075873   \n",
       "50%    159.000000   10.416819    7.531673    6.235074    7.333426    3.187703   \n",
       "75%    200.500000   10.735117    8.053832    6.612291    7.513084    3.280416   \n",
       "max    238.000000   11.675109    9.627008    8.364749    8.374055    3.611630   \n",
       "\n",
       "          1294_at     1316_at     1320_at   1405_i_at  ...  \\\n",
       "count  151.000000  151.000000  151.000000  151.000000  ...   \n",
       "mean     7.310240    5.323484    4.714095    7.787712  ...   \n",
       "std      0.642091    0.294513    0.308550    1.648260  ...   \n",
       "min      5.455736    4.646131    3.946065    3.866030  ...   \n",
       "25%      6.874504    5.131931    4.466260    6.804510  ...   \n",
       "50%      7.417113    5.274663    4.662957    7.912255  ...   \n",
       "75%      7.760806    5.456686    4.941337    8.887997  ...   \n",
       "max      8.569296    6.360765    5.893006   11.710498  ...   \n",
       "\n",
       "       AFFX-r2-Ec-bioD-3_at  AFFX-r2-Ec-bioD-5_at  AFFX-r2-P1-cre-3_at  \\\n",
       "count            151.000000            151.000000           151.000000   \n",
       "mean              12.359605             11.823386            14.018193   \n",
       "std                0.318436              0.369859             0.253870   \n",
       "min               11.650564             10.939760            13.419083   \n",
       "25%               12.149550             11.592631            13.807282   \n",
       "50%               12.321900             11.830756            14.002497   \n",
       "75%               12.527235             12.021728            14.232589   \n",
       "max               13.509037             13.119966            14.622678   \n",
       "\n",
       "       AFFX-r2-P1-cre-5_at  AFFX-ThrX-3_at  AFFX-ThrX-5_at  AFFX-ThrX-M_at  \\\n",
       "count           151.000000      151.000000      151.000000      151.000000   \n",
       "mean             13.773030        7.621929        5.699042        6.185605   \n",
       "std               0.290556        0.857777        0.860841        0.953867   \n",
       "min              13.191191        5.729767        4.326227        4.301471   \n",
       "25%              13.523011        6.884862        4.967515        5.336542   \n",
       "50%              13.740376        7.795425        5.489450        6.209136   \n",
       "75%              14.028020        8.195458        6.449022        7.046721   \n",
       "max              14.482744       10.291243        8.112206        9.121638   \n",
       "\n",
       "       AFFX-TrpnX-3_at  AFFX-TrpnX-5_at  AFFX-TrpnX-M_at  \n",
       "count       151.000000       151.000000       151.000000  \n",
       "mean          2.918774         3.624008         3.173868  \n",
       "std           0.093126         0.145394         0.101907  \n",
       "min           2.733497         3.299401         2.937393  \n",
       "25%           2.861549         3.532740         3.109767  \n",
       "50%           2.911734         3.615106         3.163205  \n",
       "75%           2.961270         3.698539         3.229561  \n",
       "max           3.322275         4.160823         3.451855  \n",
       "\n",
       "[8 rows x 54676 columns]"
      ]
     },
     "execution_count": 110,
     "metadata": {},
     "output_type": "execute_result"
    }
   ],
   "source": [
    "data.describe()"
   ]
  },
  {
   "cell_type": "markdown",
   "id": "40c2c0cd",
   "metadata": {},
   "source": [
    "3.- Asigne las variables X e y como las features y respuesta respectívamente. Separe sus datos en train\n",
    "y test"
   ]
  },
  {
   "cell_type": "code",
   "execution_count": 111,
   "id": "212e0864",
   "metadata": {},
   "outputs": [],
   "source": [
    "y = data.type #Dejemos en la variable X las features\n",
    "X = data.drop(columns=\"type\") #Y en y a la respuesta (type)"
   ]
  },
  {
   "cell_type": "code",
   "execution_count": 112,
   "id": "4547e047",
   "metadata": {},
   "outputs": [],
   "source": [
    "X_train, X_test, y_train, y_test = train_test_split(X, y) #Separamos los datos en conjuntos de training y testing"
   ]
  },
  {
   "cell_type": "markdown",
   "id": "dea93394",
   "metadata": {},
   "source": [
    "4.- Haga un countplot de las respuestas. ¿El dataset se encuentra balanceado o desbalanceado?"
   ]
  },
  {
   "cell_type": "code",
   "execution_count": 113,
   "id": "074767bb",
   "metadata": {},
   "outputs": [
    {
     "data": {
      "text/plain": [
       "<Axes: xlabel='type', ylabel='count'>"
      ]
     },
     "execution_count": 113,
     "metadata": {},
     "output_type": "execute_result"
    },
    {
     "data": {
      "image/png": "[encoded data removed]",
      "text/plain": [
       "<Figure size 640x480 with 1 Axes>"
      ]
     },
     "metadata": {},
     "output_type": "display_data"
    }
   ],
   "source": [
    "sns.countplot(data, x=\"type\")"
   ]
  },
  {
   "cell_type": "markdown",
   "id": "69c591d8",
   "metadata": {},
   "source": [
    "El dataset se encuentra desbalanceado."
   ]
  },
  {
   "cell_type": "markdown",
   "id": "bc583adc",
   "metadata": {},
   "source": [
    "## Reducción de dimensionalidad"
   ]
  },
  {
   "cell_type": "markdown",
   "id": "d1d7bebf",
   "metadata": {},
   "source": [
    "1.- Utilizando los datos de entrenamiento: Realice un PCA con 50 componentes principales y muestre\n",
    "un gráfico de elbow"
   ]
  },
  {
   "cell_type": "code",
   "execution_count": 114,
   "id": "b7da895a",
   "metadata": {},
   "outputs": [],
   "source": [
    "ss = StandardScaler()\n",
    "X = ss.fit_transform(X) #Normalizar los datos"
   ]
  },
  {
   "cell_type": "code",
   "execution_count": 115,
   "id": "8f9ce508",
   "metadata": {},
   "outputs": [
    {
     "data": {
      "text/plain": [
       "array([0.11181075, 0.10186105, 0.05223194, 0.03383904, 0.03293234,\n",
       "       0.02855815, 0.02210766, 0.01850885, 0.01529892, 0.01288198,\n",
       "       0.01236049, 0.0109382 , 0.01035898, 0.00998738, 0.00914495,\n",
       "       0.00882964, 0.00858604, 0.0084624 , 0.00816112, 0.00812417,\n",
       "       0.00784012, 0.00749368, 0.00742112, 0.00720918, 0.0069791 ,\n",
       "       0.00692285, 0.00667077, 0.00649078, 0.0064402 , 0.00625693,\n",
       "       0.00613403, 0.00606568, 0.00584451, 0.00579076, 0.00572888,\n",
       "       0.00557321, 0.00539815, 0.00534494, 0.0053232 , 0.00515179,\n",
       "       0.00505874, 0.00501671, 0.00495474, 0.00481557, 0.00470067,\n",
       "       0.00460568, 0.00457338, 0.00451569, 0.00439798, 0.00434318])"
      ]
     },
     "execution_count": 115,
     "metadata": {},
     "output_type": "execute_result"
    }
   ],
   "source": [
    "pca = PCA(50) #Instanciate PCA object with N_components = 50\n",
    "pca.fit(X) #Ajustar el PCA a los datos\n",
    "pca.explained_variance_ratio_\n"
   ]
  },
  {
   "cell_type": "code",
   "execution_count": 116,
   "id": "b0a89922",
   "metadata": {},
   "outputs": [
    {
     "data": {
      "image/png": "[encoded data removed]",
      "text/plain": [
       "<Figure size 640x480 with 1 Axes>"
      ]
     },
     "metadata": {},
     "output_type": "display_data"
    }
   ],
   "source": [
    "exp_variance = pd.DataFrame(pca.explained_variance_ratio_) #Gets explained variance\n",
    "exp_variance[\"component\"] = exp_variance.index + 1 #Assign a PC number\n",
    "exp_variance = exp_variance.rename(columns={0: \"explained_variance\"})\n",
    "sns.barplot(exp_variance, x=\"component\", y = \"explained_variance\") #Plot explained variance\n",
    "plt.xticks([]) #Drops xticks\n",
    "plt.show() #Display\n"
   ]
  },
  {
   "cell_type": "code",
   "execution_count": 117,
   "id": "c9dc70ce",
   "metadata": {},
   "outputs": [
    {
     "data": {
      "image/png": "[encoded data removed]",
      "text/plain": [
       "<Figure size 640x480 with 1 Axes>"
      ]
     },
     "metadata": {},
     "output_type": "display_data"
    }
   ],
   "source": [
    "exp_variance[\"explained_variance_cumulate\"] = exp_variance[\"explained_variance\"].cumsum() #Cummulative sum\n",
    "sns.lineplot(exp_variance, x = \"component\", y=\"explained_variance_cumulate\") #Plots\n",
    "plt.axhline(0.8)  #Plots line at 80% of variance\n",
    "plt.show() #Display"
   ]
  },
  {
   "cell_type": "markdown",
   "id": "ff84541e",
   "metadata": {},
   "source": [
    "2.- Le interesa explicar el 80% de la varianza, ¿con cuantos componentes se quedará?"
   ]
  },
  {
   "cell_type": "markdown",
   "id": "dd715cd1",
   "metadata": {},
   "source": [
    "Con todos, ya que no hay ningun componente sobre el 80%"
   ]
  },
  {
   "cell_type": "markdown",
   "id": "33ce3b88",
   "metadata": {},
   "source": [
    "3.- Con los datos de entrenamiento, reajuste su PCA para utilizar los componentes seleccionados. Transforme\n",
    "los datos de entrenamiento y testeo utilizando estos componentes"
   ]
  },
  {
   "cell_type": "code",
   "execution_count": 118,
   "id": "98f1fbf9",
   "metadata": {},
   "outputs": [
    {
     "data": {
      "text/plain": [
       "50"
      ]
     },
     "execution_count": 118,
     "metadata": {},
     "output_type": "execute_result"
    }
   ],
   "source": [
    "exp_variance_sample = exp_variance[exp_variance.explained_variance_cumulate <= 0.8] #Selects lower than 80%\n",
    "num_components = exp_variance_sample.shape[0] #Obtains number of rows (components to use)\n",
    "num_components"
   ]
  },
  {
   "cell_type": "code",
   "execution_count": 119,
   "id": "f3b4dbff",
   "metadata": {},
   "outputs": [
    {
     "data": {
      "text/plain": [
       "(151, 50)"
      ]
     },
     "execution_count": 119,
     "metadata": {},
     "output_type": "execute_result"
    }
   ],
   "source": [
    "pca = PCA(num_components) #New PCA with n_components\n",
    "X = pca.fit_transform(X) #Transform data\n",
    "X.shape"
   ]
  },
  {
   "cell_type": "markdown",
   "id": "4ddcaae5",
   "metadata": {},
   "source": [
    "4.- Visualice los primeros 2 componentes en un scatterplot, coloreando según la etiqueta."
   ]
  },
  {
   "cell_type": "code",
   "execution_count": 120,
   "id": "618ab466",
   "metadata": {},
   "outputs": [
    {
     "data": {
      "text/plain": [
       "<Axes: xlabel='0', ylabel='1'>"
      ]
     },
     "execution_count": 120,
     "metadata": {},
     "output_type": "execute_result"
    },
    {
     "data": {
      "image/png": "[encoded data removed]",
      "text/plain": [
       "<Figure size 1000x600 with 1 Axes>"
      ]
     },
     "metadata": {},
     "output_type": "display_data"
    }
   ],
   "source": [
    "X = pd.DataFrame(X) #Dataframe transformed\n",
    "plt.figure(figsize=(10,6)) #Set image size\n",
    "sns.scatterplot(X, x=0, y=1, hue=y.astype(str), alpha=0.5, s=5) #First 2 components, colored by label."
   ]
  },
  {
   "cell_type": "markdown",
   "id": "3613d092",
   "metadata": {},
   "source": [
    "5.- ¿Qué ventajas proporciona reducir la dimensionalidad de un problema?"
   ]
  },
  {
   "cell_type": "markdown",
   "id": "19447b05",
   "metadata": {},
   "source": [
    "Reduce el tiempo de computación y espacio de almacenamiento. Necesita menos parámetros para entrenar los modelos, por lo que será menos propenso al overfitting. Además, la correlación sera nula entre las nuevas features, por tanto, independientes entre si. De esta forma eliminamos redundancia."
   ]
  },
  {
   "cell_type": "markdown",
   "id": "579d7095",
   "metadata": {},
   "source": [
    "6.- ¿Qué propiedad deben cumplir ciertos vectores para considerarse componentes principales?"
   ]
  },
  {
   "cell_type": "markdown",
   "id": "6a4ae8d1",
   "metadata": {},
   "source": [
    "Deben ser vectores propios, es decir, la propiedad de que conservan su dirección cuando se aplica una transformación lineal (mult. matricial)."
   ]
  },
  {
   "cell_type": "markdown",
   "id": "f806bc3e",
   "metadata": {},
   "source": [
    "7.- ¿Qué función maximizan los vectores de componentes principales? ¿Cuál minimizan?"
   ]
  },
  {
   "cell_type": "markdown",
   "id": "791831a5",
   "metadata": {},
   "source": [
    "Maximizan la varianza. Minimizan el reconstruction error."
   ]
  },
  {
   "cell_type": "markdown",
   "id": "e0ad3107",
   "metadata": {},
   "source": [
    "8.- ¿Cuáles son las dos descomposiciones matriciales con las que se puede construir un PCA?"
   ]
  },
  {
   "cell_type": "markdown",
   "id": "8d278cdb",
   "metadata": {},
   "source": [
    "Eigen decomposition y Singular value decomposition (SVD)."
   ]
  },
  {
   "cell_type": "markdown",
   "id": "17a6f9cd",
   "metadata": {},
   "source": [
    "## Clasificación"
   ]
  },
  {
   "cell_type": "markdown",
   "id": "a1ec980c",
   "metadata": {},
   "source": [
    "1.- Entrene un modelo de regresión logística con los datos de entrenamiento transformados por el PCA.\n",
    "Ajuste utilizando cross validation, reporte la media y desviación estandar"
   ]
  },
  {
   "cell_type": "code",
   "execution_count": 121,
   "id": "8ea14e86",
   "metadata": {},
   "outputs": [],
   "source": [
    "X_train, X_test, y_train, y_test = train_test_split(X, y, test_size=0.2) #Dividir los datos en train y test"
   ]
  },
  {
   "cell_type": "code",
   "execution_count": 122,
   "id": "c7fb14e6",
   "metadata": {},
   "outputs": [
    {
     "data": {
      "text/plain": [
       "(np.float64(0.994445563800569), np.float64(0.007573199305840305))"
      ]
     },
     "execution_count": 122,
     "metadata": {},
     "output_type": "execute_result"
    }
   ],
   "source": [
    "cv_roc = cross_validate(lr, X_train, y_train, cv=5, scoring=\"roc_auc_ovr\")[\"test_score\"] #Validacion cruzada de 5 folds\n",
    "cv_roc.mean(), cv_roc.std() #Media de la validacion cruzada"
   ]
  },
  {
   "cell_type": "markdown",
   "id": "988b62d5",
   "metadata": {},
   "source": [
    "2.- Re entrene el modelo con todos los datos de entrenamiento y realice las predicciones correspondientes\n",
    "con el dataset de testeo transformado"
   ]
  },
  {
   "cell_type": "code",
   "execution_count": 128,
   "id": "45828640",
   "metadata": {},
   "outputs": [
    {
     "name": "stdout",
     "output_type": "stream",
     "text": [
      "49           HER\n",
      "137    luminal_B\n",
      "31         basal\n",
      "65           HER\n",
      "124    luminal_B\n",
      "95     luminal_A\n",
      "33         basal\n",
      "103    luminal_A\n",
      "35         basal\n",
      "143    luminal_B\n",
      "70           HER\n",
      "97     luminal_A\n",
      "11         basal\n",
      "14         basal\n",
      "91        normal\n",
      "21         basal\n",
      "107    luminal_A\n",
      "139    luminal_B\n",
      "29         basal\n",
      "32         basal\n",
      "102    luminal_A\n",
      "76     cell_line\n",
      "104    luminal_A\n",
      "112    luminal_A\n",
      "123    luminal_B\n",
      "113    luminal_A\n",
      "78     cell_line\n",
      "75     cell_line\n",
      "73     cell_line\n",
      "45           HER\n",
      "20         basal\n",
      "Name: type, dtype: object ['HER' 'luminal_B' 'basal' 'basal' 'luminal_B' 'luminal_A' 'basal'\n",
      " 'luminal_A' 'basal' 'luminal_B' 'HER' 'luminal_B' 'basal' 'basal'\n",
      " 'normal' 'HER' 'luminal_A' 'luminal_B' 'basal' 'basal' 'luminal_B'\n",
      " 'cell_line' 'luminal_A' 'luminal_B' 'luminal_B' 'luminal_A' 'cell_line'\n",
      " 'cell_line' 'cell_line' 'HER' 'basal']\n"
     ]
    }
   ],
   "source": [
    "y_pred = lr.predict(X_test) #Valores totalmente nuevos\n",
    "y_prob = lr.predict_proba(X_test) #Predict probability\n",
    "print(y_test, y_pred)"
   ]
  },
  {
   "cell_type": "markdown",
   "id": "9abda95c",
   "metadata": {},
   "source": [
    "3.- Prediga las probabilidades con el dataset de testeo transformado"
   ]
  },
  {
   "cell_type": "code",
   "execution_count": 124,
   "id": "828340db",
   "metadata": {},
   "outputs": [
    {
     "data": {
      "text/plain": [
       "array([[9.96311789e-01, 1.42942131e-03, 4.76744228e-04, 1.10930123e-03,\n",
       "        9.30696551e-05, 5.79674892e-04],\n",
       "       [8.03832629e-05, 4.35481874e-10, 4.31170519e-07, 9.82737742e-06,\n",
       "        9.99906679e-01, 2.67898669e-06],\n",
       "       [3.57802831e-05, 9.99708002e-01, 4.86763206e-05, 6.23872441e-07,\n",
       "        4.22991089e-06, 2.02687458e-04],\n",
       "       [7.09533263e-02, 9.07005403e-01, 1.36038579e-03, 9.90344986e-04,\n",
       "        3.25272420e-03, 1.64378156e-02],\n",
       "       [9.74907105e-07, 3.92677382e-07, 2.36172567e-05, 4.35707862e-03,\n",
       "        9.95500083e-01, 1.17853433e-04],\n",
       "       [2.13357645e-05, 3.11041713e-08, 3.26261808e-06, 9.99673422e-01,\n",
       "        2.93371881e-04, 8.57688307e-06],\n",
       "       [1.50194242e-04, 9.99710497e-01, 1.07867792e-04, 1.05039893e-05,\n",
       "        2.33190837e-08, 2.09134322e-05],\n",
       "       [3.26368879e-07, 6.35730911e-08, 1.01774150e-05, 9.99817266e-01,\n",
       "        3.68608804e-05, 1.35305289e-04],\n",
       "       [2.34164534e-06, 9.99996163e-01, 7.01453147e-07, 2.79306373e-07,\n",
       "        3.63518774e-12, 5.14312961e-07],\n",
       "       [1.86320464e-02, 2.16181403e-07, 2.83005654e-04, 1.66152775e-03,\n",
       "        9.79199817e-01, 2.23386801e-04],\n",
       "       [9.99986058e-01, 8.04367332e-06, 9.89220463e-07, 5.97218476e-09,\n",
       "        4.61527247e-06, 2.87782872e-07],\n",
       "       [2.87565889e-06, 2.70439307e-11, 1.62644976e-06, 9.99371043e-01,\n",
       "        6.21998533e-04, 2.45617545e-06],\n",
       "       [3.03464390e-05, 9.99951251e-01, 1.39507004e-05, 5.07378851e-07,\n",
       "        2.18924161e-07, 3.72574948e-06],\n",
       "       [2.91353632e-04, 9.99672051e-01, 1.94273049e-05, 6.77911097e-07,\n",
       "        3.70744744e-07, 1.61197744e-05],\n",
       "       [4.01613783e-11, 1.11717447e-09, 6.26958015e-08, 6.20376230e-09,\n",
       "        2.46895828e-06, 9.99997461e-01],\n",
       "       [3.72811929e-06, 9.99986143e-01, 8.62314690e-08, 5.80895147e-06,\n",
       "        1.61603600e-12, 4.23326799e-06],\n",
       "       [8.19477009e-10, 8.60768397e-09, 7.54884906e-08, 9.99997408e-01,\n",
       "        1.66668556e-07, 2.34034653e-06],\n",
       "       [1.03692471e-08, 4.40013065e-11, 1.57157185e-08, 3.37999304e-11,\n",
       "        9.99999972e-01, 2.03285443e-09],\n",
       "       [2.42400346e-08, 9.99999803e-01, 1.18086001e-08, 1.36943986e-07,\n",
       "        2.55525981e-11, 2.37094623e-08],\n",
       "       [3.26700838e-05, 9.99958972e-01, 1.03392053e-06, 1.95079589e-09,\n",
       "        5.86234768e-07, 6.73546591e-06],\n",
       "       [3.94916317e-09, 2.45702969e-08, 1.23588160e-06, 9.91330183e-01,\n",
       "        8.55352414e-03, 1.15028110e-04],\n",
       "       [5.68560159e-09, 1.65605646e-05, 9.99981534e-01, 2.34655411e-09,\n",
       "        7.66617616e-08, 1.82095940e-06],\n",
       "       [6.68364225e-09, 8.77195021e-07, 2.51985522e-06, 9.99730570e-01,\n",
       "        1.65143881e-04, 1.00882591e-04],\n",
       "       [1.03256381e-05, 4.58862032e-06, 2.06926253e-05, 9.96965917e-01,\n",
       "        2.99082708e-03, 7.64935825e-06],\n",
       "       [2.11847756e-10, 3.66359650e-08, 1.35998056e-08, 5.04119026e-09,\n",
       "        9.99999673e-01, 2.71029470e-07],\n",
       "       [5.09388588e-08, 2.80950800e-06, 4.90981289e-05, 9.99108288e-01,\n",
       "        4.14849468e-04, 4.24903650e-04],\n",
       "       [3.03847670e-09, 2.07148498e-09, 9.99880765e-01, 2.29186066e-10,\n",
       "        1.18367311e-04, 8.62771866e-07],\n",
       "       [7.91463276e-13, 2.13453955e-06, 9.99699108e-01, 1.96167161e-11,\n",
       "        2.97917729e-04, 8.40115542e-07],\n",
       "       [2.69775306e-11, 1.72768163e-05, 9.99979799e-01, 9.08511733e-07,\n",
       "        6.80672751e-09, 2.00892554e-06],\n",
       "       [9.99998887e-01, 7.15872849e-09, 9.28165087e-07, 7.32538876e-10,\n",
       "        1.49301906e-07, 2.73312385e-08],\n",
       "       [3.07773834e-08, 9.99999045e-01, 6.28928896e-07, 1.43878173e-11,\n",
       "        1.34549908e-10, 2.95509831e-07]])"
      ]
     },
     "execution_count": 124,
     "metadata": {},
     "output_type": "execute_result"
    }
   ],
   "source": [
    "y_prob"
   ]
  },
  {
   "cell_type": "markdown",
   "id": "091a46a0",
   "metadata": {},
   "source": [
    "4.- ¿Cual es la loss function utilizada en el modelo lineal de clasificación?"
   ]
  },
  {
   "cell_type": "markdown",
   "id": "b1ceef8a",
   "metadata": {},
   "source": [
    "En el modelo lineal de clasificación se usa la loss function llamada Cross Entropy."
   ]
  },
  {
   "cell_type": "markdown",
   "id": "3f0df6c3",
   "metadata": {},
   "source": [
    "5.- Nombre los 4 pasos para realizar una estimación de Maximum Likelihood"
   ]
  },
  {
   "cell_type": "markdown",
   "id": "5d9ac10c",
   "metadata": {},
   "source": [
    "- 1.- Multiplicar likelihood.\n",
    "- 2.- Aplicar -log o -ln.\n",
    "- 3.- Transformar multiplicaciones (epitatorias) a sumatorias.\n",
    "- 4.- Derivar e igualar a cero."
   ]
  },
  {
   "cell_type": "markdown",
   "id": "e665643f",
   "metadata": {},
   "source": [
    "## Interpretación"
   ]
  },
  {
   "cell_type": "markdown",
   "id": "0df4cd78",
   "metadata": {},
   "source": [
    "1.- Reporte las métricas de clasificación con classification report."
   ]
  },
  {
   "cell_type": "code",
   "execution_count": 130,
   "id": "055c7e27",
   "metadata": {},
   "outputs": [
    {
     "name": "stdout",
     "output_type": "stream",
     "text": [
      "              precision    recall  f1-score   support\n",
      "\n",
      "         HER       1.00      1.00      1.00        26\n",
      "       basal       1.00      1.00      1.00        32\n",
      "   cell_line       1.00      1.00      1.00        10\n",
      "   luminal_A       1.00      1.00      1.00        21\n",
      "   luminal_B       1.00      1.00      1.00        25\n",
      "      normal       1.00      1.00      1.00         6\n",
      "\n",
      "    accuracy                           1.00       120\n",
      "   macro avg       1.00      1.00      1.00       120\n",
      "weighted avg       1.00      1.00      1.00       120\n",
      "\n"
     ]
    }
   ],
   "source": [
    "lr = LogisticRegression(max_iter=1000) #Crear un objeto de regresion logistica\n",
    "lr.fit(X_train, y_train) #Ajustar el modelo a los datos de train\n",
    "y_pred1 = lr.predict(X_train) #Predecir los datos de test\n",
    "print(classification_report(y_train, y_pred1)) #Mostrar el reporte de clasificacion"
   ]
  },
  {
   "cell_type": "markdown",
   "id": "e3abd58a",
   "metadata": {},
   "source": [
    "2.- Muestre una matriz de confusión de sus resultados. ¿Qué errores está cometiendo su modelo?"
   ]
  },
  {
   "cell_type": "code",
   "execution_count": 133,
   "id": "689cb57b",
   "metadata": {},
   "outputs": [
    {
     "data": {
      "text/plain": [
       "<Axes: >"
      ]
     },
     "execution_count": 133,
     "metadata": {},
     "output_type": "execute_result"
    },
    {
     "data": {
      "image/png": "[encoded data removed]",
      "text/plain": [
       "<Figure size 640x480 with 2 Axes>"
      ]
     },
     "metadata": {},
     "output_type": "display_data"
    }
   ],
   "source": [
    "cm = confusion_matrix(y_test, y_pred)\n",
    "sns.heatmap(cm, annot=True) #Plots heatmap"
   ]
  },
  {
   "cell_type": "markdown",
   "id": "29c89cad",
   "metadata": {},
   "source": [
    "Mi modelo no está cometiendo demasiados errores, ya que su diagonal principal representa los aciertos (verdaderos positivos y verdaderos negativos), mientras que dentro de los desaciertos, solo se cuentan 5."
   ]
  },
  {
   "cell_type": "markdown",
   "id": "502f5c83",
   "metadata": {},
   "source": [
    "3.- ¿Qué desventaja tiene utilizar el accuracy como métrica en este tipo de problemas?"
   ]
  },
  {
   "cell_type": "markdown",
   "id": "db8fb524",
   "metadata": {},
   "source": [
    "Tiene la desventaja de que necesita un número único para comparar modelos."
   ]
  },
  {
   "cell_type": "markdown",
   "id": "f34c2562",
   "metadata": {},
   "source": [
    "4.- Considerando que es más importante detectar una enfermedad o subtipo, que no detectarlo, ¿qué\n",
    "métrica es la mas indicada?"
   ]
  },
  {
   "cell_type": "markdown",
   "id": "cce133de",
   "metadata": {},
   "source": [
    "Recall es la métrica más indicada, ya que esta es útil cuando se deben minimizar los falsos\n",
    "negativos."
   ]
  },
  {
   "cell_type": "markdown",
   "id": "e2c1d6f9",
   "metadata": {},
   "source": [
    "5.- En el contexto de las métricas de desempeño, cual es la diferencia ”macro avg” y ”weighted avg”?"
   ]
  },
  {
   "cell_type": "markdown",
   "id": "12b171e5",
   "metadata": {},
   "source": [
    "\"macro avg\" simplemente calcula la media de las métricas binarias, asignando el mismo peso a cada clase. Mientras que, \"weighted avg\" explica el desequilibrio de clases calculando el promedio de métricas binarias en el que la puntuación de cada clase se pondera según su presencia en la muestra de datos reales."
   ]
  },
  {
   "cell_type": "markdown",
   "id": "616c803e",
   "metadata": {},
   "source": [
    "## Bonus Point"
   ]
  },
  {
   "cell_type": "markdown",
   "id": "86db8c2a",
   "metadata": {},
   "source": [
    "De ejemplos de tareas que podrían resolverse utilizando:\n",
    "- Aprendizaje supervisado - Clasificación (2 ejemplos)\n",
    "- Aprendizaje supervisado - Regresión (2 ejemplos)"
   ]
  },
  {
   "cell_type": "markdown",
   "id": "17bfca91",
   "metadata": {},
   "source": [
    "Las respuestas deben ser originales y no deben haber sido mencionadas en clases o ayudantías."
   ]
  },
  {
   "cell_type": "markdown",
   "id": "6b0b5b5a",
   "metadata": {},
   "source": [
    "R:// Creo que usando clasificación, se podrían resolver tareas como identificar el estado de las cerezas en un árbol, a través de algunos parámetros. Con estado me refiero a su madurez o si esta tiene alguna enfermedad, etc. El otro ejemplo va de la mano con esto mismo, ya que se podría usar para poder identificar que partes de una imagen se corresponden con cerezas. Lo cual podría ayudar a la implementación de un conteo en tiempo real.\n",
    "\n",
    "En el caso de regresión, creo que se podría aplicar para predecir las condiciones de victoria en un combate Pokémon, si se conociesen los datos del oponente asociado a movimientos, habilidades, tipos de los Pokémon, etc. A su vez, otro ejemplo similar, es que se podría utilizar para predecir la estadística base de Velocidad que podría tener un Pokémon, basandose en su tipo elemental u otros atributos."
   ]
  }
 ],
 "metadata": {
  "kernelspec": {
   "display_name": "ML",
   "language": "python",
   "name": "python3"
  },
  "language_info": {
   "codemirror_mode": {
    "name": "ipython",
    "version": 3
   },
   "file_extension": ".py",
   "mimetype": "text/x-python",
   "name": "python",
   "nbconvert_exporter": "python",
   "pygments_lexer": "ipython3",
   "version": "3.10.16"
  }
 },
 "nbformat": 4,
 "nbformat_minor": 5
}
